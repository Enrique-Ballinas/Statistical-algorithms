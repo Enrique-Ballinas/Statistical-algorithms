{
 "cells": [
  {
   "cell_type": "markdown",
   "id": "coral-quality",
   "metadata": {},
   "source": [
    "# Algoritmo para la prueba de Shapiro-Wilk"
   ]
  },
  {
   "cell_type": "code",
   "execution_count": 61,
   "id": "revolutionary-partnership",
   "metadata": {},
   "outputs": [],
   "source": [
    "import pandas as pd\n",
    "import numpy as np"
   ]
  },
  {
   "cell_type": "code",
   "execution_count": 62,
   "id": "conceptual-chancellor",
   "metadata": {},
   "outputs": [],
   "source": [
    "# función que realiza la operación y_(n-i-1) - y_i\n",
    "def operacion(dataSorted):\n",
    "    dS_y = []\n",
    "    for i in range(len(dataSorted)):\n",
    "        y2 = dataSorted[len(dataSorted)-i-1]\n",
    "        y1 = dataSorted[i]\n",
    "        dS_y.append(y2-y1)\n",
    "        '''\n",
    "        if y2-y1 < 0:\n",
    "            dS_y.append(0)\n",
    "        else:\n",
    "            dS_y.append(y2-y1)\n",
    "        '''\n",
    "    return dS_y"
   ]
  },
  {
   "cell_type": "code",
   "execution_count": 63,
   "id": "referenced-forwarding",
   "metadata": {},
   "outputs": [],
   "source": [
    "# función que realiza la operacion a_i * (y_(n-i-1) - y_i)\n",
    "def operacion2(Y,a):\n",
    "    A = []\n",
    "    for i in range(len(a)):\n",
    "        A.append(a[i]*Y[i])\n",
    "    \n",
    "    return A"
   ]
  },
  {
   "cell_type": "code",
   "execution_count": 64,
   "id": "successful-poster",
   "metadata": {},
   "outputs": [],
   "source": [
    "# importar los datos. Ubicamos el archivo a importar (articulo)\n",
    "archivo = 'C:/Users/BALLINAS/Documents/Citedi-doctorado/Tesis/Estancia_2021-2022/Algoritmos/Experimentos/Experimentos-Peor_caso/PruebasEstadisticasWorst_Nuevas/Generaciones/PruebasEstad_WorstCase_Generaciones5UAVs.xlsx'\n",
    "# importamos los datos de la hoja de excel\n",
    "datos = pd.read_excel(archivo, sheet_name = 'Datos')"
   ]
  },
  {
   "cell_type": "code",
   "execution_count": 65,
   "id": "communist-configuration",
   "metadata": {},
   "outputs": [
    {
     "data": {
      "text/plain": [
       "\"\\ndataset_1 = pd.DataFrame(datos, columns= ['GA'])\\ndataset_2 = pd.DataFrame(datos, columns= ['HQGAARA-theta1'])\\ndataset_3 = pd.DataFrame(datos, columns= ['HQGAARA-theta2'])\\ndataset_4 = pd.DataFrame(datos, columns= ['HQGAARA-CP'])\\ndataset_5 = pd.DataFrame(datos, columns= ['HQGA-Fuzzy'])\\n\""
      ]
     },
     "execution_count": 65,
     "metadata": {},
     "output_type": "execute_result"
    }
   ],
   "source": [
    "# Importamos los datos para la prueba Shapiro\n",
    "dataset_1 = pd.DataFrame(datos, columns= ['HQGAARA-theta1_Boots'])\n",
    "dataset_2 = pd.DataFrame(datos, columns= ['HQGAARA-theta2_Boots'])\n",
    "\n",
    "'''\n",
    "dataset_1 = pd.DataFrame(datos, columns= ['GA'])\n",
    "dataset_2 = pd.DataFrame(datos, columns= ['HQGAARA-theta1'])\n",
    "dataset_3 = pd.DataFrame(datos, columns= ['HQGAARA-theta2'])\n",
    "dataset_4 = pd.DataFrame(datos, columns= ['HQGAARA-CP'])\n",
    "dataset_5 = pd.DataFrame(datos, columns= ['HQGA-Fuzzy'])\n",
    "'''"
   ]
  },
  {
   "cell_type": "code",
   "execution_count": 66,
   "id": "turned-hungarian",
   "metadata": {},
   "outputs": [],
   "source": [
    "# convertimos los datos a valores flotantes\n",
    "dataset_1F = dataset_1.values\n",
    "dataset_2F = dataset_2.values\n",
    "'''\n",
    "dataset_3F = dataset_3.values\n",
    "dataset_4F = dataset_4.values\n",
    "dataset_5F = dataset_5.values\n",
    "'''\n",
    "# Almacenamos los datos flotantes en un solo vector\n",
    "data_1F = []\n",
    "data_2F = []\n",
    "'''\n",
    "data_3F = []\n",
    "data_4F = []\n",
    "data_5F = []\n",
    "'''\n",
    "for i in range(len(dataset_1F)):\n",
    "    data_1F.append(dataset_1F[i][0])\n",
    "    data_2F.append(dataset_2F[i][0])\n",
    "    '''\n",
    "    data_3F.append(dataset_3F[i][0])\n",
    "    data_4F.append(dataset_4F[i][0])\n",
    "    data_5F.append(dataset_5F[i][0])\n",
    "    '''"
   ]
  },
  {
   "cell_type": "code",
   "execution_count": 67,
   "id": "aggregate-closer",
   "metadata": {},
   "outputs": [
    {
     "name": "stdout",
     "output_type": "stream",
     "text": [
      "490.4166566666667\n",
      "448.83555666666666\n",
      "58.83001986168673\n",
      "82.45155066631426\n"
     ]
    },
    {
     "data": {
      "text/plain": [
       "'\\nprint(std_HT2)\\nprint(std_HCP)\\nprint(std_HF)\\n'"
      ]
     },
     "execution_count": 67,
     "metadata": {},
     "output_type": "execute_result"
    }
   ],
   "source": [
    "# Paso 1: Ordenar los datos de menor a mayor\n",
    "dataSort_1F = sorted(data_1F)\n",
    "dataSort_2F = sorted(data_2F)\n",
    "'''\n",
    "dataSort_3F = sorted(data_3F)\n",
    "dataSort_4F = sorted(data_4F)\n",
    "dataSort_5F = sorted(data_5F)\n",
    "'''\n",
    "\n",
    "# calculamos promedio\n",
    "prom_GA = np.mean(dataSort_1F)\n",
    "prom_HT1 = np.mean(dataSort_2F)\n",
    "'''\n",
    "prom_HT2 = np.mean(dataSort_3F)\n",
    "prom_HCP = np.mean(dataSort_4F)\n",
    "prom_HF = np.mean(dataSort_5F)\n",
    "'''\n",
    "print(prom_GA) #theta1\n",
    "print(prom_HT1)\n",
    "'''\n",
    "print(prom_HT2)\n",
    "print(prom_HCP)\n",
    "print(prom_HF,\"\\n\")\n",
    "'''\n",
    "# calculamos desviación estandar\n",
    "std_GA = np.std(dataSort_1F)\n",
    "std_HT1 = np.std(dataSort_2F)\n",
    "'''\n",
    "std_HT2 = np.std(dataSort_3F)\n",
    "std_HCP = np.std(dataSort_4F)\n",
    "std_HF = np.std(dataSort_5F)\n",
    "'''\n",
    "print(std_GA)\n",
    "print(std_HT1)\n",
    "'''\n",
    "print(std_HT2)\n",
    "print(std_HCP)\n",
    "print(std_HF)\n",
    "'''"
   ]
  },
  {
   "cell_type": "code",
   "execution_count": 68,
   "id": "executed-whale",
   "metadata": {},
   "outputs": [],
   "source": [
    "# Paso 2: Determinar los coeficientes. En nuestro caso n es igual a 50 (número de muestras), el número de elementos es igual \n",
    "# a 25 (ver tabla). Los valores de los coeficientes se obtienen de una tabla\n",
    "\n",
    "#a = [0.3751, 0.2574, 0.2260, 0.2032, 0.1847, 0.1691, 0.1554, 0.1430, 0.1317, 0.1212, 0.1113, 0.1020, 0.0932, 0.0846, 0.0764, 0.0685, 0.0608, 0.0532, 0.0459, 0.0386, 0.0314, 0.0244, 0.0174, 0.0104, 0.0035] # ingresamos los elemeentos de la tabla (50 elementos)\n",
    "a = [0.4254, 0.2944, 0.2487, 0.2148, 0.1870, 0.1630, 0.1415, 0.1219, 0.1036, 0.0862, 0.0697, 0.0537, 0.0381, 0.0227, 0.0076] # 30 elementos"
   ]
  },
  {
   "cell_type": "code",
   "execution_count": 69,
   "id": "dried-intermediate",
   "metadata": {},
   "outputs": [
    {
     "data": {
      "text/plain": [
       "'\\nY3 = operacion(dataSort_3F)\\nY4 = operacion(dataSort_4F)\\nY5 = operacion(dataSort_5F)\\n'"
      ]
     },
     "execution_count": 69,
     "metadata": {},
     "output_type": "execute_result"
    }
   ],
   "source": [
    "# Paso 3: Realizar la sig. operacion y_(n-i-1) - y_i; donde n es el número de muestras, i es el indice del elemento\n",
    "Y1 = operacion(dataSort_1F)\n",
    "Y2 = operacion(dataSort_2F)\n",
    "'''\n",
    "Y3 = operacion(dataSort_3F)\n",
    "Y4 = operacion(dataSort_4F)\n",
    "Y5 = operacion(dataSort_5F)\n",
    "'''\n",
    "#print(Y1)"
   ]
  },
  {
   "cell_type": "code",
   "execution_count": 70,
   "id": "dated-footwear",
   "metadata": {},
   "outputs": [
    {
     "data": {
      "text/plain": [
       "'\\nA3 = operacion2(Y3,a)\\nA4 = operacion2(Y4,a)\\nA5 = operacion2(Y5,a)\\n'"
      ]
     },
     "execution_count": 70,
     "metadata": {},
     "output_type": "execute_result"
    }
   ],
   "source": [
    "# Paso 4: Realizar la sig. operacion a_i * (y_(n-i-1) - y_i)\n",
    "A1 = operacion2(Y1,a)\n",
    "A2 = operacion2(Y2,a)\n",
    "'''\n",
    "A3 = operacion2(Y3,a)\n",
    "A4 = operacion2(Y4,a)\n",
    "A5 = operacion2(Y5,a)\n",
    "'''"
   ]
  },
  {
   "cell_type": "code",
   "execution_count": 71,
   "id": "fallen-greensboro",
   "metadata": {},
   "outputs": [
    {
     "name": "stdout",
     "output_type": "stream",
     "text": [
      "103829.1371077951\n",
      "203947.74621839542\n"
     ]
    },
    {
     "data": {
      "text/plain": [
       "'\\nprint(varianza_3F)\\nprint(varianza_4F)\\nprint(varianza_5F)\\n'"
      ]
     },
     "execution_count": 71,
     "metadata": {},
     "output_type": "execute_result"
    }
   ],
   "source": [
    "# Paso 5: Calculamos la varianza. Utilizando la función np.var me salian resultados diferentes al de la función Shapiro\n",
    "varianza_1F = np.var(dataSort_1F)\n",
    "varianza_2F = np.var(dataSort_2F)\n",
    "'''\n",
    "varianza_3F = np.var(dataSort_3F)\n",
    "varianza_4F = np.var(dataSort_4F)\n",
    "'''\n",
    "data1F_2 = []\n",
    "data2F_2 = []\n",
    "'''\n",
    "data3F_2 = []\n",
    "data4F_2 = []\n",
    "data5F_2 = []\n",
    "'''\n",
    "for i in range(len(data_1F)):\n",
    "    data1F_2.append(data_1F[i]**2)\n",
    "    data2F_2.append(data_2F[i]**2)\n",
    "    '''\n",
    "    data3F_2.append(data_3F[i]**2)\n",
    "    data4F_2.append(data_4F[i]**2)\n",
    "    data5F_2.append(data_5F[i]**2)\n",
    "    '''\n",
    "varianza_1F = sum(data1F_2) - (len(data_1F)*(np.mean(data_1F)**2))\n",
    "varianza_2F = sum(data2F_2) - (len(data_2F)*(np.mean(data_2F)**2))\n",
    "'''\n",
    "varianza_3F = sum(data3F_2) - (len(data_3F)*(np.mean(data_3F)**2))\n",
    "varianza_4F = sum(data4F_2) - (len(data_4F)*(np.mean(data_4F)**2))\n",
    "varianza_5F = sum(data5F_2) - (len(data_5F)*(np.mean(data_5F)**2))\n",
    "'''\n",
    "print(varianza_1F)\n",
    "print(varianza_2F)\n",
    "'''\n",
    "print(varianza_3F)\n",
    "print(varianza_4F)\n",
    "print(varianza_5F)\n",
    "'''"
   ]
  },
  {
   "cell_type": "code",
   "execution_count": 72,
   "id": "cardiovascular-diagnosis",
   "metadata": {},
   "outputs": [
    {
     "name": "stdout",
     "output_type": "stream",
     "text": [
      "0.9438044406358981\n",
      "0.9554034695263317\n"
     ]
    },
    {
     "data": {
      "text/plain": [
       "'\\nprint(W3) # HT2\\nprint(W4) # HCP\\nprint(W5) # HF\\n'"
      ]
     },
     "execution_count": 72,
     "metadata": {},
     "output_type": "execute_result"
    }
   ],
   "source": [
    "# Paso 6: Calculamos el estadistico con Shapiro\n",
    "b1 = sum(A1) # valor estadisitico\n",
    "b2 = sum(A2)\n",
    "'''\n",
    "b3 = sum(A3)\n",
    "b4 = sum(A4)\n",
    "b5 = sum(A5)\n",
    "'''\n",
    "W1 = (b1**2)/varianza_1F\n",
    "W2 = (b2**2)/varianza_2F\n",
    "'''\n",
    "W3 = (b3**2)/varianza_3F\n",
    "W4 = (b4**2)/varianza_4F\n",
    "W5 = (b5**2)/varianza_5F\n",
    "'''\n",
    "print(W1) # GA\n",
    "print(W2) # HT1\n",
    "'''\n",
    "print(W3) # HT2\n",
    "print(W4) # HCP\n",
    "print(W5) # HF\n",
    "'''"
   ]
  },
  {
   "cell_type": "code",
   "execution_count": 73,
   "id": "czech-check",
   "metadata": {},
   "outputs": [
    {
     "name": "stdout",
     "output_type": "stream",
     "text": [
      "W1:  0.9438044406358981 . H0 es verdadera, la variable SI tiene distribución normal\n",
      "W2:  0.9554034695263317 . H0 es verdadera, la variable SI tiene distribución normal\n"
     ]
    },
    {
     "data": {
      "text/plain": [
       "'    \\nif W3 < alpha:\\n    print(\"W3: \",W3, \". H0 es falsa, la variable NO tiene distribución normal\")\\nelse:\\n    print(\"W3: \",W3, \". H0 es verdadera, la variable SI tiene distribución normal\")\\n\\nif W4 < alpha:\\n    print(\"W4: \",W4, \". H0 es falsa, la variable NO tiene distribución normal\")\\nelse:\\n    print(\"W4: \",W4, \". H0 es verdadera, la variable SI tiene distribución normal\")\\n\\nif W5 < alpha:\\n    print(\"W5: \",W5, \". H0 es falsa, la variable NO tiene distribución normal\")\\nelse:\\n    print(\"W5: \",W5, \". H0 es verdadera, la variable SI tiene distribución normal\")\\n# NOTA: PIENSO QUE LA DIFERENCIA DE DECIMALES CON RESPECTO A LA FUNCIÓN DE SHAPIRO SE DEBE A LOS DECIMALES EMPLEADOS EN MI\\n# IMPLEMENTACIÓN YA QUE LOS AGREGUE DIRECTO DE LA TABLA\\n'"
      ]
     },
     "execution_count": 73,
     "metadata": {},
     "output_type": "execute_result"
    }
   ],
   "source": [
    "# Paso 7: Buscamos el valor en la tabla, n = numero de muestras y alpha = valor significativo (0.01)\n",
    "# verificamos si la hipotesis se rechaza o no\n",
    "alpha = 0.900\n",
    "if W1 < alpha:\n",
    "    print(\"W1: \",W1, \". H0 es falsa, la variable NO tiene distribución normal\")\n",
    "else:\n",
    "    print(\"W1: \",W1,  \". H0 es verdadera, la variable SI tiene distribución normal\")\n",
    "\n",
    "if W2 < alpha:\n",
    "    print(\"W2: \",W2, \". H0 es falsa, la variable NO tiene distribución normal\")\n",
    "else:\n",
    "    print(\"W2: \",W2, \". H0 es verdadera, la variable SI tiene distribución normal\")\n",
    "'''    \n",
    "if W3 < alpha:\n",
    "    print(\"W3: \",W3, \". H0 es falsa, la variable NO tiene distribución normal\")\n",
    "else:\n",
    "    print(\"W3: \",W3, \". H0 es verdadera, la variable SI tiene distribución normal\")\n",
    "\n",
    "if W4 < alpha:\n",
    "    print(\"W4: \",W4, \". H0 es falsa, la variable NO tiene distribución normal\")\n",
    "else:\n",
    "    print(\"W4: \",W4, \". H0 es verdadera, la variable SI tiene distribución normal\")\n",
    "\n",
    "if W5 < alpha:\n",
    "    print(\"W5: \",W5, \". H0 es falsa, la variable NO tiene distribución normal\")\n",
    "else:\n",
    "    print(\"W5: \",W5, \". H0 es verdadera, la variable SI tiene distribución normal\")\n",
    "# NOTA: PIENSO QUE LA DIFERENCIA DE DECIMALES CON RESPECTO A LA FUNCIÓN DE SHAPIRO SE DEBE A LOS DECIMALES EMPLEADOS EN MI\n",
    "# IMPLEMENTACIÓN YA QUE LOS AGREGUE DIRECTO DE LA TABLA\n",
    "'''"
   ]
  },
  {
   "cell_type": "code",
   "execution_count": 74,
   "id": "miniature-beads",
   "metadata": {},
   "outputs": [
    {
     "name": "stdout",
     "output_type": "stream",
     "text": [
      "ShapiroResult(statistic=0.9488646984100342, pvalue=0.15761445462703705)\n",
      "ShapiroResult(statistic=0.9591370820999146, pvalue=0.29438453912734985)\n"
     ]
    },
    {
     "data": {
      "text/plain": [
       "'\\nprint(WS3)\\nprint(WS4)\\nprint(WS5)\\n'"
      ]
     },
     "execution_count": 74,
     "metadata": {},
     "output_type": "execute_result"
    }
   ],
   "source": [
    "# Función de python para realizar el test de shapiro. Lo uso para comprobar si estan bien mis resultados\n",
    "from scipy.stats import shapiro\n",
    "WS1 = shapiro(data_1F)\n",
    "WS2 = shapiro(data_2F)\n",
    "'''\n",
    "WS3 = shapiro(data_3F)\n",
    "WS4 = shapiro(data_4F)\n",
    "WS5 = shapiro(data_5F)\n",
    "'''\n",
    "print(WS1)\n",
    "print(WS2)\n",
    "'''\n",
    "print(WS3)\n",
    "print(WS4)\n",
    "print(WS5)\n",
    "'''"
   ]
  },
  {
   "cell_type": "code",
   "execution_count": null,
   "id": "ebc77a19",
   "metadata": {},
   "outputs": [],
   "source": []
  }
 ],
 "metadata": {
  "kernelspec": {
   "display_name": "Python 3 (ipykernel)",
   "language": "python",
   "name": "python3"
  },
  "language_info": {
   "codemirror_mode": {
    "name": "ipython",
    "version": 3
   },
   "file_extension": ".py",
   "mimetype": "text/x-python",
   "name": "python",
   "nbconvert_exporter": "python",
   "pygments_lexer": "ipython3",
   "version": "3.9.16"
  }
 },
 "nbformat": 4,
 "nbformat_minor": 5
}
