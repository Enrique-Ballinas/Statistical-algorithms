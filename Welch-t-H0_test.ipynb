{
 "cells": [
  {
   "cell_type": "markdown",
   "id": "palestinian-hours",
   "metadata": {},
   "source": [
    "# Algoritmo para calcular los valores para determinar la Hipotesis H0"
   ]
  },
  {
   "cell_type": "code",
   "execution_count": 1,
   "id": "answering-worker",
   "metadata": {},
   "outputs": [],
   "source": [
    "import pandas as pd\n",
    "import numpy as np"
   ]
  },
  {
   "cell_type": "code",
   "execution_count": 2,
   "id": "local-abuse",
   "metadata": {},
   "outputs": [],
   "source": [
    "# Funcion que calcula los grados de libertidad. Los parametros requerido son desviacion estandar del primer conjunto (std1)\n",
    "# desviacion estandar del segundo conjunto (std2), y numero total de elementos de la muestra (n)\n",
    "def DOF(std1,std2,n):\n",
    "    dof = ((std1**2/n) + (std2**2/n))**2 / (((std1**2/n)**2/(n-1)) + ((std2**2/n)**2/(n-1)))\n",
    "    return dof"
   ]
  },
  {
   "cell_type": "code",
   "execution_count": 3,
   "id": "athletic-salad",
   "metadata": {},
   "outputs": [],
   "source": [
    "# Funcion para calcular el valor t. Los parametros requerido son el promedio del conjunto 1 (m1), promedio del conjunto 2 (m2)\n",
    "# la desviacion estandar del conjunto 1 (std1), desviacion estandar del conjunto 2 (std2), y total de elementos de la muestra (n)\n",
    "def t_valor(m1,m2,std1,std2,n): \n",
    "    std_x = np.sqrt((std1**2/n) + (std2**2/n))\n",
    "    t = (m1 - m2) / std_x\n",
    "    return t"
   ]
  },
  {
   "cell_type": "code",
   "execution_count": 4,
   "id": "divine-northern",
   "metadata": {},
   "outputs": [],
   "source": [
    "# Ubicamos el archivo a importar\n",
    "archivo = 'C:/Users/BALLINAS/Documents/Citedi-doctorado/Tesis/Estancia_2021-2022/Algoritmos/Experimentos/Experimentos-Peor_caso/PruebasEstadisticasWorst_Nuevas/Generaciones/PruebasEstad_WorstCase_Generaciones5UAVs.xlsx'\n",
    "# importamos los datos de la hoja de excel\n",
    "datos = pd.read_excel(archivo, sheet_name='Datos')"
   ]
  },
  {
   "cell_type": "code",
   "execution_count": 5,
   "id": "exceptional-subdivision",
   "metadata": {},
   "outputs": [],
   "source": [
    "# Importamos los datos para calcular H0\n",
    "dataset_1 = pd.DataFrame(datos, columns= ['HQGAARA-theta2_Boots'])\n",
    "dataset_2 = pd.DataFrame(datos, columns= ['HQGAARA-theta1_Boots'])\n",
    "dataset_3 = pd.DataFrame(datos, columns= ['HQGA-Fuzzy'])\n",
    "#dataset_4 = pd.DataFrame(datos, columns= ['HQGAARA-CP'])\n",
    "#dataset_5 = pd.DataFrame(datos, columns= ['HQGA-Fuzzy'])\n",
    "#print(dataset_1)"
   ]
  },
  {
   "cell_type": "code",
   "execution_count": 6,
   "id": "assumed-interpretation",
   "metadata": {},
   "outputs": [],
   "source": [
    "# convertimos los datos a valores flotantes\n",
    "dataset_1F = dataset_1.values\n",
    "dataset_2F = dataset_2.values\n",
    "dataset_3F = dataset_3.values\n",
    "#dataset_4F = dataset_4.values\n",
    "#dataset_5F = dataset_5.values\n",
    "\n",
    "# Almacenamos los datos flotantes en un solo vector\n",
    "data_1F = []\n",
    "data_2F = []\n",
    "data_3F = []\n",
    "#data_4F = []\n",
    "#data_5F = []\n",
    "for i in range(len(dataset_1F)):\n",
    "    data_1F.append(dataset_1F[i][0])\n",
    "    data_2F.append(dataset_2F[i][0])\n",
    "    data_3F.append(dataset_3F[i][0])\n",
    "    #data_4F.append(dataset_4F[i][0])\n",
    "    #data_5F.append(dataset_5F[i][0])"
   ]
  },
  {
   "cell_type": "code",
   "execution_count": 7,
   "id": "vocal-upset",
   "metadata": {},
   "outputs": [
    {
     "name": "stdout",
     "output_type": "stream",
     "text": [
      "Promedio theta2:  448.8355566666666\n",
      "Promedio theta1:  490.41665666666665\n",
      "Promedio fuzzy:  500.0\n"
     ]
    }
   ],
   "source": [
    "# Calculamos los promedios\n",
    "promedio_1F = np.mean(data_1F)\n",
    "promedio_2F = np.mean(data_2F)\n",
    "promedio_3F = np.mean(data_3F)\n",
    "#promedio_4F = np.mean(data_4F)\n",
    "#promedio_5F = np.mean(data_5F)\n",
    "print(\"Promedio theta2: \", promedio_1F)\n",
    "print(\"Promedio theta1: \", promedio_2F)\n",
    "print(\"Promedio fuzzy: \", promedio_3F)\n",
    "#print(\"Promedio HQGAARA-CP: \", promedio_4F)\n",
    "#print(\"Promedio HQGA-fuzzy: \", promedio_5F)"
   ]
  },
  {
   "cell_type": "code",
   "execution_count": 8,
   "id": "framed-congo",
   "metadata": {},
   "outputs": [
    {
     "name": "stdout",
     "output_type": "stream",
     "text": [
      "Varianza theta2:  203947.74621839542\n",
      "Varianza theta1:  103829.1371077951\n",
      "Varianza fuzzy:  1764916.0\n"
     ]
    }
   ],
   "source": [
    "# Calculamos la varianza. Con cualquiera de los dos metodos el valor t es el mismo\n",
    "data1F_2 = []\n",
    "data2F_2 = []\n",
    "data3F_2 = []\n",
    "#data4F_2 = []\n",
    "#data5F_2 = []\n",
    "\n",
    "for i in range(len(data_1F)):\n",
    "    data1F_2.append(data_1F[i]**2)\n",
    "    data2F_2.append(data_2F[i]**2)\n",
    "    data3F_2.append(data_3F[i]**2)\n",
    "    #data4F_2.append(data_4F[i]**2)\n",
    "    #data5F_2.append(data_5F[i]**2)\n",
    "\n",
    "varianza_1F = sum(data1F_2) - (len(data_1F)*(np.mean(data_1F)**2))\n",
    "varianza_2F = sum(data2F_2) - (len(data_2F)*(np.mean(data_2F)**2))\n",
    "varianza_3F = sum(data3F_2) - (len(data_3F)*(np.mean(data_3F)**2))\n",
    "#varianza_4F = sum(data4F_2) - (len(data_4F)*(np.mean(data_4F)**2))\n",
    "#varianza_5F = sum(data5F_2) - (len(data_5F)*(np.mean(data_5F)**2))\n",
    "\n",
    "print(\"Varianza theta2: \", varianza_1F)\n",
    "print(\"Varianza theta1: \", varianza_2F)\n",
    "print(\"Varianza fuzzy: \", varianza_3F)\n",
    "#print(\"Varianza HQGAARA-CP: \", varianza_4F)\n",
    "#print(\"Varianza HQGA-fuzzy: \", varianza_5F)"
   ]
  },
  {
   "cell_type": "code",
   "execution_count": 9,
   "id": "opening-hardwood",
   "metadata": {},
   "outputs": [
    {
     "name": "stdout",
     "output_type": "stream",
     "text": [
      "Dse theta2:  82.45155066631428\n",
      "Dse theta1:  58.83001986168673\n",
      "Dse fuzzy:  242.55006356076953\n"
     ]
    }
   ],
   "source": [
    "# Calculamos la desviacion estandar\n",
    "std_1F = np.std(data_1F)\n",
    "std_2F = np.std(data_2F)\n",
    "std_3F = np.std(data_3F)\n",
    "#std_4F = np.std(data_4F)\n",
    "#std_5F = np.std(data_5F)\n",
    "print(\"Dse theta2: \", std_1F)\n",
    "print(\"Dse theta1: \", std_2F)\n",
    "print(\"Dse fuzzy: \", std_3F)\n",
    "#print(\"Dse HQGAARA-CP: \", std_4F)\n",
    "#print(\"Dse HQGA-fuzzy: \", std_5F)"
   ]
  },
  {
   "cell_type": "code",
   "execution_count": 10,
   "id": "changed-tobago",
   "metadata": {},
   "outputs": [
    {
     "name": "stdout",
     "output_type": "stream",
     "text": [
      "d.o.f. HQGAARA-t1: 52.44988293649384\n",
      "d.o.f. HQGAARA-fuzzy: 35.61396606993588\n"
     ]
    }
   ],
   "source": [
    "# calculamos los grados de libertad (d.o.f)\n",
    "dof_2F = DOF(std_1F,std_2F,len(data_1F))\n",
    "dof_3F = DOF(std_1F,std_3F,len(data_1F))\n",
    "#dof_4F = DOF(std_1F,std_4F,len(data_1F))\n",
    "#dof_5F = DOF(std_1F,std_5F,len(data_1F))\n",
    "print(\"d.o.f. HQGAARA-t1:\", dof_2F)\n",
    "print(\"d.o.f. HQGAARA-fuzzy:\", dof_3F)\n",
    "#print(\"d.o.f. HQGAARA-CP:\", dof_4F)\n",
    "#print(\"d.o.f. HQGA-fuzzy:\", dof_5F)"
   ]
  },
  {
   "cell_type": "code",
   "execution_count": 11,
   "id": "classical-mandate",
   "metadata": {},
   "outputs": [
    {
     "name": "stdout",
     "output_type": "stream",
     "text": [
      "t-valor HQGAARA-t1:  -2.248532815317464\n",
      "t-valor HQGAARA-fuzzy:  -1.093910213018393\n"
     ]
    }
   ],
   "source": [
    "# calculamos el valor t\n",
    "t_2F = t_valor(promedio_1F,promedio_2F,std_1F,std_2F,len(data_1F))\n",
    "t_3F = t_valor(promedio_1F,promedio_3F,std_1F,std_3F,len(data_1F))\n",
    "#t_4F = t_valor(promedio_1F,promedio_4F,std_1F,std_4F,len(data_1F))\n",
    "#t_5F = t_valor(promedio_1F,promedio_5F,std_1F,std_5F,len(data_1F))\n",
    "print(\"t-valor HQGAARA-t1: \", t_2F)\n",
    "print(\"t-valor HQGAARA-fuzzy: \", t_3F)\n",
    "#print(\"t-valor HQGAARA-CP: \", t_4F)\n",
    "#print(\"t-valor HQGA-fuzzy: \", t_5F)"
   ]
  },
  {
   "cell_type": "code",
   "execution_count": 12,
   "id": "limiting-parade",
   "metadata": {},
   "outputs": [
    {
     "name": "stdout",
     "output_type": "stream",
     "text": [
      "H0 es verdadera para HQGAARA-t1. No hay diferencia significativa\n",
      "H0 es verdadera para HQGAARA-t2. No hay diferencia significativa\n"
     ]
    },
    {
     "data": {
      "text/plain": [
       "'\\nif abs(t_4F) < val_critico3:\\n    print(\"H0 es verdadera para HQGAARA-CP. No hay diferencia significativa\")\\nelse:\\n    print(\"H0 es falsa para HQGAARA-CP. Si hay diferencia significativa\")\\n\\nif abs(t_5F) < val_critico4:\\n    print(\"H0 es verdadera para HQGAARA-CP. No hay diferencia significativa\")\\nelse:\\n    print(\"H0 es falsa para HQGAARA-CP. Si hay diferencia significativa\")\\n'"
      ]
     },
     "execution_count": 12,
     "metadata": {},
     "output_type": "execute_result"
    }
   ],
   "source": [
    "#Determinos si H0 es falsa o verdadera (alpha=0.001)\n",
    "val_critico1 = 3.340\n",
    "val_critico2 = 3.391\n",
    "#val_critico3 = 3.515\n",
    "#val_critico4 = 3.538\n",
    "\n",
    "if abs(t_2F) < val_critico1:\n",
    "    print(\"H0 es verdadera para HQGAARA-t1. No hay diferencia significativa\")\n",
    "else:\n",
    "    print(\"H0 es falsa para HQGAARA-t1. Si hay diferencia significativa\")\n",
    "\n",
    "if abs(t_3F) < val_critico2:\n",
    "    print(\"H0 es verdadera para HQGAARA-t2. No hay diferencia significativa\")\n",
    "else:\n",
    "    print(\"H0 es falsa para HQGAARA-t2. Si hay diferencia significativa\")\n",
    "'''\n",
    "if abs(t_4F) < val_critico3:\n",
    "    print(\"H0 es verdadera para HQGAARA-CP. No hay diferencia significativa\")\n",
    "else:\n",
    "    print(\"H0 es falsa para HQGAARA-CP. Si hay diferencia significativa\")\n",
    "\n",
    "if abs(t_5F) < val_critico4:\n",
    "    print(\"H0 es verdadera para HQGAARA-CP. No hay diferencia significativa\")\n",
    "else:\n",
    "    print(\"H0 es falsa para HQGAARA-CP. Si hay diferencia significativa\")\n",
    "'''"
   ]
  },
  {
   "cell_type": "code",
   "execution_count": 13,
   "id": "consolidated-pharmaceutical",
   "metadata": {},
   "outputs": [
    {
     "name": "stdout",
     "output_type": "stream",
     "text": [
      "Ttest_indResult(statistic=-2.21073965620276, pvalue=0.031011376534257853)\n",
      "Ttest_indResult(statistic=-1.075523857944466, pvalue=0.28659399345287306)\n"
     ]
    }
   ],
   "source": [
    "# funcion de python Welch t-test\n",
    "from scipy.stats import ttest_ind\n",
    "print(ttest_ind(data_1F,data_2F)) # theta2 vs theta1\n",
    "print(ttest_ind(data_1F,data_3F)) # theta2 vs fuzzy\n",
    "#print(ttest_ind(data_1F,data_4F)) # GA vs HQGAARA-CP\n",
    "#print(ttest_ind(data_1F,data_5F)) # GA vs HQGA-fuzzy"
   ]
  },
  {
   "cell_type": "code",
   "execution_count": null,
   "id": "25883d15",
   "metadata": {},
   "outputs": [],
   "source": []
  }
 ],
 "metadata": {
  "kernelspec": {
   "display_name": "Python 3 (ipykernel)",
   "language": "python",
   "name": "python3"
  },
  "language_info": {
   "codemirror_mode": {
    "name": "ipython",
    "version": 3
   },
   "file_extension": ".py",
   "mimetype": "text/x-python",
   "name": "python",
   "nbconvert_exporter": "python",
   "pygments_lexer": "ipython3",
   "version": "3.9.16"
  }
 },
 "nbformat": 4,
 "nbformat_minor": 5
}
