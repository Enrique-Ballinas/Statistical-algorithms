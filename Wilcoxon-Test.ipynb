{
 "cells": [
  {
   "cell_type": "markdown",
   "id": "printable-alcohol",
   "metadata": {},
   "source": [
    "# Algoritmo para Wilcoxon rank-sum test"
   ]
  },
  {
   "cell_type": "code",
   "execution_count": 1,
   "id": "closed-modem",
   "metadata": {},
   "outputs": [],
   "source": [
    "import pandas as pd\n",
    "import numpy as np"
   ]
  },
  {
   "cell_type": "code",
   "execution_count": 2,
   "id": "double-limitation",
   "metadata": {},
   "outputs": [],
   "source": [
    "# Función para calcular la diferencia entre datos\n",
    "def diferencia(x,y):\n",
    "    diff =[]\n",
    "    for i in range(len(x)):\n",
    "        diff.append(x[i]-y[i])\n",
    "    \n",
    "    return diff"
   ]
  },
  {
   "cell_type": "code",
   "execution_count": 3,
   "id": "loving-holmes",
   "metadata": {},
   "outputs": [],
   "source": [
    "# Función para calcular el rango. El rango es la posición de las diferencias, de menor a mayor\n",
    "def rango(diff):\n",
    "    # calculamos el valor absoluto\n",
    "    diff_sort = []\n",
    "    for i in range(len(diff)):\n",
    "        diff_sort.append(abs(diff[i]))\n",
    "    \n",
    "    # ordenamos de menor a mayor\n",
    "    diff_sort = sorted(diff_sort) \n",
    "            \n",
    "    # Mapeamos los indices con los datos ordenados \n",
    "    Rdiff = []\n",
    "    i = 0\n",
    "    indice = 0\n",
    "    contador = 0\n",
    "    suma = 0\n",
    "    while i < len(diff_sort):\n",
    "        if diff_sort[i] > 0: # verificamos que sea mayor a cero\n",
    "            indice = indice + 1\n",
    "            if i == len(diff_sort)-1: # Cuando es el ultimo elemento\n",
    "                if diff_sort[i] == diff_sort[i-1]:\n",
    "                    suma = suma + indice\n",
    "                    contador += 1\n",
    "                    promedio = suma / contador\n",
    "                    for j in range(contador):\n",
    "                        Rdiff.append(promedio)\n",
    "                \n",
    "                    promedio = 0\n",
    "                    suma = 0\n",
    "                    contador = 0\n",
    "                else:\n",
    "                    Rdiff.append(indice)\n",
    "            else: # Cuando NO es el ultimo elemento\n",
    "                # Verificamos si son el mismo numero\n",
    "                if diff_sort[i] != diff_sort[i+1]:\n",
    "                    if contador > 0:\n",
    "                        if diff_sort[i] == diff_sort[i-1]:\n",
    "                            suma = suma + indice\n",
    "                            contador += 1\n",
    "                            promedio = suma / contador\n",
    "                            for j in range(contador):\n",
    "                                Rdiff.append(promedio)\n",
    "                \n",
    "                            promedio = 0\n",
    "                            suma = 0\n",
    "                            contador = 0\n",
    "                    else:\n",
    "                        Rdiff.append(indice)\n",
    "                else:\n",
    "                    suma = suma + indice\n",
    "                    contador += 1\n",
    "        i = i + 1\n",
    "    \n",
    "    # Identificar si son positivos o negativos\n",
    "    ceros = 0 # contador, Rdiff \n",
    "    for i in range(len(diff_sort)):\n",
    "        for j in range(len(diff)):\n",
    "            if diff_sort[i] > 0:\n",
    "                if diff_sort[i] + diff[j] == 0: # significa que el elemento es negativo\n",
    "                    Rdiff[i-ceros] = Rdiff[i-ceros] * -1 \n",
    "                    diff[j] = 0.0 # para que no repita el mismo numero cuando el for inicia de nuevo\n",
    "                    break    \n",
    "                else:\n",
    "                    if diff_sort[i] - diff[j] == 0: # significa que el elemento es positivo\n",
    "                        diff[j] = 0.0\n",
    "                        break\n",
    "            else:\n",
    "                ceros += 1\n",
    "                break\n",
    "     \n",
    "    return Rdiff"
   ]
  },
  {
   "cell_type": "code",
   "execution_count": 4,
   "id": "rubber-garlic",
   "metadata": {},
   "outputs": [],
   "source": [
    "# Función que separa los negativos de los positivos del rango, despues los suma.\n",
    "def suma_rangos(rangos):\n",
    "    positivos = []\n",
    "    negativos = []\n",
    "    for i in range(len(rangos)):\n",
    "        if rangos[i] > 0:\n",
    "            positivos.append(rangos[i])\n",
    "        else:\n",
    "            negativos.append(rangos[i])\n",
    "    \n",
    "    return sum(positivos), abs(sum(negativos))"
   ]
  },
  {
   "cell_type": "code",
   "execution_count": 5,
   "id": "rational-truck",
   "metadata": {},
   "outputs": [],
   "source": [
    "# importamos los datos\n",
    "archivo = 'C:/Users/BALLINAS/Documents/Citedi-doctorado/Tesis/Estancia_2021-2022/Algoritmos/Experimentos/Experimentos-Mejor_caso/Pruebas-estadisiticas-Best/Tabla_mejores-generaciones_Best.xlsx'\n",
    "\n",
    "# importamos los datos de la hoja de excel\n",
    "datos = pd.read_excel(archivo, sheet_name='5-UAVs')"
   ]
  },
  {
   "cell_type": "code",
   "execution_count": 6,
   "id": "proof-animal",
   "metadata": {},
   "outputs": [],
   "source": [
    "# Importamos los datos para la prueba Wilcoxon\n",
    "dataset_1 = pd.DataFrame(datos, columns= ['GA'])\n",
    "dataset_2 = pd.DataFrame(datos, columns= ['HQGAARA-theta1'])\n",
    "dataset_3 = pd.DataFrame(datos, columns= ['HQGAARA-theta2'])\n",
    "dataset_4 = pd.DataFrame(datos, columns= ['HQGAARA-CP'])"
   ]
  },
  {
   "cell_type": "code",
   "execution_count": 7,
   "id": "recognized-bracket",
   "metadata": {},
   "outputs": [],
   "source": [
    "# convertimos los datos a valores flotantes\n",
    "dataset_1F = dataset_1.values\n",
    "dataset_2F = dataset_2.values\n",
    "dataset_3F = dataset_3.values\n",
    "dataset_4F = dataset_4.values\n",
    "\n",
    "# Almacenamos los datos flotantes en un solo vector\n",
    "data_1F = [] # GA\n",
    "data_2F = [] # HQGAAA\n",
    "data_3F = [] # QIEAAA-local\n",
    "data_4F = [] # QIEAAA-global\n",
    "for i in range(len(dataset_1F)):\n",
    "    data_1F.append(dataset_1F[i][0])\n",
    "    data_2F.append(dataset_2F[i][0])\n",
    "    data_3F.append(dataset_3F[i][0])\n",
    "    data_4F.append(dataset_4F[i][0])"
   ]
  },
  {
   "cell_type": "code",
   "execution_count": 8,
   "id": "genuine-newton",
   "metadata": {},
   "outputs": [],
   "source": [
    "# Comparamos datos de los algoritmos\n",
    "x_GA = data_1F\n",
    "y_HT1 = data_2F\n",
    "y_HT2 = data_3F\n",
    "y_HCP = data_4F"
   ]
  },
  {
   "cell_type": "code",
   "execution_count": 9,
   "id": "lasting-repair",
   "metadata": {},
   "outputs": [
    {
     "name": "stdout",
     "output_type": "stream",
     "text": [
      "[792, 31, -59, -138, 16, -566, 114, -541, -154, -454, 257, -39, 156, 81, -400, -769, -696, -8, -34, -542, 47, -510, 40, -349, -629, 59, -726, 830, 549, 257, 7, 115, -589, -795, -641, -200, -770, -706, -89, -767, -17, -59, -776, -68, -594, -543, -913, -613, -198, -630] \n",
      "\n",
      "[-111, -5, -863, -76, 5, -166, -67, 64, 7, -107, 96, -111, 223, -717, 262, 23, -776, -732, -222, 89, 191, 233, -15, -156, -134, 99, 26, 719, -136, 40, 164, 283, -718, 142, -717, -783, -862, -852, -30, -883, 130, 46, -50, -349, 91, 66, -28, 90, -262, -511] \n",
      "\n",
      "[701, -743, -294, -490, -703, -198, -198, -179, -799, -729, 51, -386, -137, 119, -185, 111, 86, -566, 87, -156, -463, 219, -237, -6, -495, -647, -39, 836, 686, -521, 58, -347, -60, -686, -609, -834, -23, -469, -41, -327, -861, -743, -776, -21, 155, 15, -535, -94, -738, 130]\n"
     ]
    }
   ],
   "source": [
    "# Paso 1: Calcular la diferencia entre ambos datos\n",
    "diff1 = diferencia(x_GA,y_HT1)\n",
    "diff2 = diferencia(x_GA,y_HT2)\n",
    "diff3 = diferencia(x_GA,y_HCP)\n",
    "print(diff1,\"\\n\")\n",
    "print(diff2,\"\\n\")\n",
    "print(diff3)"
   ]
  },
  {
   "cell_type": "code",
   "execution_count": 10,
   "id": "legislative-subsection",
   "metadata": {},
   "outputs": [
    {
     "name": "stdout",
     "output_type": "stream",
     "text": [
      "50\n",
      "50\n",
      "50\n"
     ]
    }
   ],
   "source": [
    "# Paso 1: Calculamos el rango\n",
    "R1 = rango(diff1)\n",
    "R2 = rango(diff2)\n",
    "R3 = rango(diff3)\n",
    "#print(R1)\n",
    "#print(R2)\n",
    "#print(R3)\n",
    "print(len(R1)) # Tamaño de la muestra (N), esta no considera las diferencias con valor a cero\n",
    "print(len(R2))\n",
    "print(len(R3))"
   ]
  },
  {
   "cell_type": "code",
   "execution_count": 11,
   "id": "controlling-coordination",
   "metadata": {},
   "outputs": [
    {
     "name": "stdout",
     "output_type": "stream",
     "text": [
      "(279.0, 996.0)\n",
      "(443.0, 832.0)\n",
      "(247.5, 1027.5)\n"
     ]
    }
   ],
   "source": [
    "# Paso 2: Calculamos la suma de los rangos\n",
    "sum_rangos1 = suma_rangos(R1)\n",
    "sum_rangos2 = suma_rangos(R2)\n",
    "sum_rangos3 = suma_rangos(R3)\n",
    "print(sum_rangos1) # El primer elemento es la suma de los positivos, el segundo es la suma de los negativos\n",
    "print(sum_rangos2)\n",
    "print(sum_rangos3)"
   ]
  },
  {
   "cell_type": "code",
   "execution_count": 12,
   "id": "regulated-pendant",
   "metadata": {},
   "outputs": [
    {
     "name": "stdout",
     "output_type": "stream",
     "text": [
      "GA vs HQGAARA-theta1 =  279.0\n",
      "GA vs HQGAARA-theta2 =  443.0\n",
      "GA vs HQGAARA-CP =  247.5\n"
     ]
    }
   ],
   "source": [
    "# Paso 3: Calculamos el estadistico W\n",
    "W1 = min(sum_rangos1)\n",
    "W2 = min(sum_rangos2)\n",
    "W3 = min(sum_rangos3)\n",
    "print(\"GA vs HQGAARA-theta1 = \", W1)\n",
    "print(\"GA vs HQGAARA-theta2 = \", W2)\n",
    "print(\"GA vs HQGAARA-CP = \", W3)"
   ]
  },
  {
   "cell_type": "code",
   "execution_count": 13,
   "id": "limiting-panic",
   "metadata": {},
   "outputs": [
    {
     "name": "stdout",
     "output_type": "stream",
     "text": [
      "WilcoxonResult(statistic=279.0, pvalue=0.0005385703990067998)\n",
      "WilcoxonResult(statistic=443.0, pvalue=0.06043502351584361)\n",
      "WilcoxonResult(statistic=247.5, pvalue=0.00016665278406628612)\n"
     ]
    }
   ],
   "source": [
    "# Función de python para realizar el test de wilcoxon. Lo uso para comprobar si estan bien mis resultados\n",
    "from scipy.stats import wilcoxon\n",
    "print(wilcoxon(x_GA,y_HT1))\n",
    "print(wilcoxon(x_GA,y_HT2))\n",
    "print(wilcoxon(x_GA,y_HCP))"
   ]
  }
 ],
 "metadata": {
  "kernelspec": {
   "display_name": "Python (Quantum)",
   "language": "python",
   "name": "quantum"
  },
  "language_info": {
   "codemirror_mode": {
    "name": "ipython",
    "version": 3
   },
   "file_extension": ".py",
   "mimetype": "text/x-python",
   "name": "python",
   "nbconvert_exporter": "python",
   "pygments_lexer": "ipython3",
   "version": "3.9.2"
  }
 },
 "nbformat": 4,
 "nbformat_minor": 5
}
